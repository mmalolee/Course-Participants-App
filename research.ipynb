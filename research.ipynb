{
 "cells": [
  {
   "cell_type": "code",
   "execution_count": 2,
   "id": "6e5c9f96",
   "metadata": {},
   "outputs": [],
   "source": [
    "import pandas as pd\n",
    "from faker import Faker\n",
    "import numpy as np\n",
    "import seaborn as sns\n",
    "import matplotlib.pyplot as plt\n",
    "\n",
    "fake = Faker('pl_PL')"
   ]
  },
  {
   "cell_type": "code",
   "execution_count": 3,
   "id": "ce23b036",
   "metadata": {},
   "outputs": [
    {
     "data": {
      "text/plain": [
       "140"
      ]
     },
     "execution_count": 3,
     "metadata": {},
     "output_type": "execute_result"
    }
   ],
   "source": [
    "df = pd.read_csv('data.csv', sep=';')\n",
    "len(df)"
   ]
  },
  {
   "cell_type": "code",
   "execution_count": 4,
   "id": "79174f9e",
   "metadata": {},
   "outputs": [],
   "source": [
    "df['gender'] = df['gender'].apply(lambda x : 'Female' if x == 1.0  else 'Male')"
   ]
  },
  {
   "cell_type": "code",
   "execution_count": 5,
   "id": "88c669b1",
   "metadata": {},
   "outputs": [
    {
     "data": {
      "text/html": [
       "<div>\n",
       "<style scoped>\n",
       "    .dataframe tbody tr th:only-of-type {\n",
       "        vertical-align: middle;\n",
       "    }\n",
       "\n",
       "    .dataframe tbody tr th {\n",
       "        vertical-align: top;\n",
       "    }\n",
       "\n",
       "    .dataframe thead th {\n",
       "        text-align: right;\n",
       "    }\n",
       "</style>\n",
       "<table border=\"1\" class=\"dataframe\">\n",
       "  <thead>\n",
       "    <tr style=\"text-align: right;\">\n",
       "      <th></th>\n",
       "      <th>age</th>\n",
       "      <th>edu_level</th>\n",
       "      <th>fav_animals</th>\n",
       "      <th>fav_place</th>\n",
       "      <th>gender</th>\n",
       "      <th>hobby_art</th>\n",
       "      <th>hobby_books</th>\n",
       "      <th>hobby_movies</th>\n",
       "      <th>hobby_other</th>\n",
       "      <th>hobby_sport</th>\n",
       "      <th>...</th>\n",
       "      <th>learning_pref_teamwork</th>\n",
       "      <th>learning_pref_workshops</th>\n",
       "      <th>motivation_career</th>\n",
       "      <th>motivation_challenges</th>\n",
       "      <th>motivation_creativity_and_innovation</th>\n",
       "      <th>motivation_money_and_job</th>\n",
       "      <th>motivation_personal_growth</th>\n",
       "      <th>motivation_remote</th>\n",
       "      <th>sweet_or_salty</th>\n",
       "      <th>years_of_experience</th>\n",
       "    </tr>\n",
       "  </thead>\n",
       "  <tbody>\n",
       "    <tr>\n",
       "      <th>0</th>\n",
       "      <td>&lt;18</td>\n",
       "      <td>Podstawowe</td>\n",
       "      <td>Brak ulubionych</td>\n",
       "      <td>NaN</td>\n",
       "      <td>Female</td>\n",
       "      <td>0</td>\n",
       "      <td>0</td>\n",
       "      <td>0</td>\n",
       "      <td>0</td>\n",
       "      <td>0</td>\n",
       "      <td>...</td>\n",
       "      <td>0</td>\n",
       "      <td>0</td>\n",
       "      <td>0</td>\n",
       "      <td>0</td>\n",
       "      <td>0</td>\n",
       "      <td>0</td>\n",
       "      <td>0</td>\n",
       "      <td>0</td>\n",
       "      <td>NaN</td>\n",
       "      <td>0-2</td>\n",
       "    </tr>\n",
       "    <tr>\n",
       "      <th>1</th>\n",
       "      <td>25-34</td>\n",
       "      <td>Średnie</td>\n",
       "      <td>Psy</td>\n",
       "      <td>Nad wodą</td>\n",
       "      <td>Male</td>\n",
       "      <td>0</td>\n",
       "      <td>0</td>\n",
       "      <td>1</td>\n",
       "      <td>0</td>\n",
       "      <td>0</td>\n",
       "      <td>...</td>\n",
       "      <td>1</td>\n",
       "      <td>1</td>\n",
       "      <td>0</td>\n",
       "      <td>1</td>\n",
       "      <td>0</td>\n",
       "      <td>0</td>\n",
       "      <td>1</td>\n",
       "      <td>0</td>\n",
       "      <td>sweet</td>\n",
       "      <td>11-15</td>\n",
       "    </tr>\n",
       "    <tr>\n",
       "      <th>2</th>\n",
       "      <td>45-54</td>\n",
       "      <td>Wyższe</td>\n",
       "      <td>Psy</td>\n",
       "      <td>W lesie</td>\n",
       "      <td>Male</td>\n",
       "      <td>0</td>\n",
       "      <td>0</td>\n",
       "      <td>1</td>\n",
       "      <td>0</td>\n",
       "      <td>0</td>\n",
       "      <td>...</td>\n",
       "      <td>1</td>\n",
       "      <td>1</td>\n",
       "      <td>0</td>\n",
       "      <td>1</td>\n",
       "      <td>0</td>\n",
       "      <td>1</td>\n",
       "      <td>1</td>\n",
       "      <td>0</td>\n",
       "      <td>salty</td>\n",
       "      <td>&gt;=16</td>\n",
       "    </tr>\n",
       "  </tbody>\n",
       "</table>\n",
       "<p>3 rows × 28 columns</p>\n",
       "</div>"
      ],
      "text/plain": [
       "     age   edu_level      fav_animals fav_place  gender  hobby_art  \\\n",
       "0    <18  Podstawowe  Brak ulubionych       NaN  Female          0   \n",
       "1  25-34     Średnie              Psy  Nad wodą    Male          0   \n",
       "2  45-54      Wyższe              Psy   W lesie    Male          0   \n",
       "\n",
       "   hobby_books  hobby_movies  hobby_other  hobby_sport  ...  \\\n",
       "0            0             0            0            0  ...   \n",
       "1            0             1            0            0  ...   \n",
       "2            0             1            0            0  ...   \n",
       "\n",
       "   learning_pref_teamwork learning_pref_workshops  motivation_career  \\\n",
       "0                       0                       0                  0   \n",
       "1                       1                       1                  0   \n",
       "2                       1                       1                  0   \n",
       "\n",
       "   motivation_challenges  motivation_creativity_and_innovation  \\\n",
       "0                      0                                     0   \n",
       "1                      1                                     0   \n",
       "2                      1                                     0   \n",
       "\n",
       "   motivation_money_and_job  motivation_personal_growth  motivation_remote  \\\n",
       "0                         0                           0                  0   \n",
       "1                         0                           1                  0   \n",
       "2                         1                           1                  0   \n",
       "\n",
       "   sweet_or_salty  years_of_experience  \n",
       "0             NaN                  0-2  \n",
       "1           sweet                11-15  \n",
       "2           salty                 >=16  \n",
       "\n",
       "[3 rows x 28 columns]"
      ]
     },
     "execution_count": 5,
     "metadata": {},
     "output_type": "execute_result"
    }
   ],
   "source": [
    "df.head(3)"
   ]
  },
  {
   "cell_type": "code",
   "execution_count": 6,
   "id": "5f3e797d",
   "metadata": {},
   "outputs": [],
   "source": [
    "def edu_replace(df):\n",
    "    if df == 'Wyższe': return 'College'\n",
    "    elif df == 'Średnie': return 'Secondary'\n",
    "    else: return 'Primary'\n",
    "\n",
    "edu_replace('Podstawowe')\n",
    "\n",
    "df['edu_level'] = df['edu_level'].apply(edu_replace)"
   ]
  },
  {
   "cell_type": "code",
   "execution_count": 7,
   "id": "d67845cc",
   "metadata": {},
   "outputs": [
    {
     "data": {
      "text/plain": [
       "edu_level\n",
       "College      110\n",
       "Secondary     29\n",
       "Primary        1\n",
       "Name: count, dtype: int64"
      ]
     },
     "execution_count": 7,
     "metadata": {},
     "output_type": "execute_result"
    }
   ],
   "source": [
    "df.edu_level.value_counts()"
   ]
  },
  {
   "cell_type": "code",
   "execution_count": 8,
   "id": "b6b9ba07",
   "metadata": {},
   "outputs": [
    {
     "data": {
      "text/plain": [
       "gender\n",
       "Male      108\n",
       "Female     32\n",
       "Name: count, dtype: int64"
      ]
     },
     "execution_count": 8,
     "metadata": {},
     "output_type": "execute_result"
    }
   ],
   "source": [
    "df.gender.value_counts()"
   ]
  },
  {
   "cell_type": "code",
   "execution_count": 9,
   "id": "fffc0c2c",
   "metadata": {},
   "outputs": [
    {
     "data": {
      "text/plain": [
       "fav_animals\n",
       "Psy                75\n",
       "Inne               21\n",
       "Koty               21\n",
       "Brak ulubionych    19\n",
       "Koty i Psy          4\n",
       "Name: count, dtype: int64"
      ]
     },
     "execution_count": 9,
     "metadata": {},
     "output_type": "execute_result"
    }
   ],
   "source": [
    "df.fav_animals.value_counts()"
   ]
  },
  {
   "cell_type": "code",
   "execution_count": 10,
   "id": "c20f4084",
   "metadata": {},
   "outputs": [],
   "source": [
    "def translate_animals(df):\n",
    "    if df == 'Psy': return 'Dogs'\n",
    "    elif df == 'Koty': return 'Cats'\n",
    "    elif df == 'Inne': return 'Other'\n",
    "    elif df == 'Koty i Psy': return 'Cats and Dogs'\n",
    "    else: return 'No preferences'\n",
    "\n",
    "df['fav_animals'] = df['fav_animals'].apply(translate_animals)"
   ]
  },
  {
   "cell_type": "code",
   "execution_count": 11,
   "id": "eaa3c3ca",
   "metadata": {},
   "outputs": [
    {
     "data": {
      "text/html": [
       "<div>\n",
       "<style scoped>\n",
       "    .dataframe tbody tr th:only-of-type {\n",
       "        vertical-align: middle;\n",
       "    }\n",
       "\n",
       "    .dataframe tbody tr th {\n",
       "        vertical-align: top;\n",
       "    }\n",
       "\n",
       "    .dataframe thead th {\n",
       "        text-align: right;\n",
       "    }\n",
       "</style>\n",
       "<table border=\"1\" class=\"dataframe\">\n",
       "  <thead>\n",
       "    <tr style=\"text-align: right;\">\n",
       "      <th></th>\n",
       "      <th>sweet_or_salty</th>\n",
       "      <th>fav_place</th>\n",
       "    </tr>\n",
       "  </thead>\n",
       "  <tbody>\n",
       "    <tr>\n",
       "      <th>0</th>\n",
       "      <td>No data</td>\n",
       "      <td>No data</td>\n",
       "    </tr>\n",
       "    <tr>\n",
       "      <th>1</th>\n",
       "      <td>Sweet</td>\n",
       "      <td>Nad wodą</td>\n",
       "    </tr>\n",
       "    <tr>\n",
       "      <th>2</th>\n",
       "      <td>Salty</td>\n",
       "      <td>W lesie</td>\n",
       "    </tr>\n",
       "  </tbody>\n",
       "</table>\n",
       "</div>"
      ],
      "text/plain": [
       "  sweet_or_salty fav_place\n",
       "0        No data   No data\n",
       "1          Sweet  Nad wodą\n",
       "2          Salty   W lesie"
      ]
     },
     "execution_count": 11,
     "metadata": {},
     "output_type": "execute_result"
    }
   ],
   "source": [
    "df['sweet_or_salty'] = df['sweet_or_salty'].str.capitalize() \n",
    "df['age'] = df['age'].str.capitalize()\n",
    "df['sweet_or_salty'] = df['sweet_or_salty'].fillna('No data')\n",
    "df['fav_place'] = df['fav_place'].fillna('No data')\n",
    "\n",
    "df[['sweet_or_salty', 'fav_place']].head(3)"
   ]
  },
  {
   "cell_type": "code",
   "execution_count": 12,
   "id": "4e2b0286",
   "metadata": {},
   "outputs": [
    {
     "data": {
      "text/plain": [
       "array(['No data', 'Nad wodą', 'W lesie', 'W górach', 'Inne'], dtype=object)"
      ]
     },
     "execution_count": 12,
     "metadata": {},
     "output_type": "execute_result"
    }
   ],
   "source": [
    "df['fav_place'].unique()"
   ]
  },
  {
   "cell_type": "code",
   "execution_count": 13,
   "id": "3fdd8fa1",
   "metadata": {},
   "outputs": [
    {
     "data": {
      "text/plain": [
       "0        No data\n",
       "1           Lake\n",
       "2         Forest\n",
       "3      Mountains\n",
       "4           Lake\n",
       "         ...    \n",
       "135    Mountains\n",
       "136    Mountains\n",
       "137       Forest\n",
       "138         Lake\n",
       "139    Mountains\n",
       "Name: fav_place, Length: 140, dtype: object"
      ]
     },
     "execution_count": 13,
     "metadata": {},
     "output_type": "execute_result"
    }
   ],
   "source": [
    "def translate_fav_place(df):\n",
    "    if df == 'Nad wodą': return 'Lake'\n",
    "    elif df == 'W lesie': return 'Forest'\n",
    "    elif df == 'W górach': return 'Mountains'\n",
    "    elif df == 'No data': return 'No data'\n",
    "    else: return 'Other'\n",
    "\n",
    "df['fav_place'] = df['fav_place'].apply(translate_fav_place)\n",
    "df['fav_place']"
   ]
  },
  {
   "cell_type": "code",
   "execution_count": 14,
   "id": "d5a85818",
   "metadata": {},
   "outputs": [],
   "source": [
    "df['name'] = np.nan"
   ]
  },
  {
   "cell_type": "code",
   "execution_count": 15,
   "id": "ae4b892c",
   "metadata": {},
   "outputs": [],
   "source": [
    "f_names = [fake.first_name_female() for x in range(len(df[df['gender'] == 'Female']))]"
   ]
  },
  {
   "cell_type": "code",
   "execution_count": 16,
   "id": "365adfb3",
   "metadata": {},
   "outputs": [
    {
     "name": "stderr",
     "output_type": "stream",
     "text": [
      "C:\\Users\\lolek\\AppData\\Local\\Temp\\ipykernel_13332\\2836971342.py:1: FutureWarning: Setting an item of incompatible dtype is deprecated and will raise an error in a future version of pandas. Value '['Róża', 'Karina', 'Angelika', 'Kornelia', 'Róża', 'Agnieszka', 'Olga', 'Janina', 'Anna Maria', 'Aurelia', 'Ewa', 'Apolonia', 'Tola', 'Dagmara', 'Justyna', 'Liwia', 'Lidia', 'Olga', 'Janina', 'Melania', 'Aurelia', 'Malwina', 'Krystyna', 'Justyna', 'Aurelia', 'Apolonia', 'Krystyna', 'Angelika', 'Aniela', 'Dagmara', 'Dagmara', 'Angelika']' has dtype incompatible with float64, please explicitly cast to a compatible dtype first.\n",
      "  df.loc[df[df['gender'] == 'Female'].index, 'name'] = f_names\n"
     ]
    }
   ],
   "source": [
    "df.loc[df[df['gender'] == 'Female'].index, 'name'] = f_names"
   ]
  },
  {
   "cell_type": "code",
   "execution_count": 17,
   "id": "cfc9f5a4",
   "metadata": {},
   "outputs": [],
   "source": [
    "m_names = [fake.first_name_male() for x in range(len(df[df['gender'] == 'Male']))]"
   ]
  },
  {
   "cell_type": "code",
   "execution_count": 18,
   "id": "7e11a963",
   "metadata": {},
   "outputs": [],
   "source": [
    "df.loc[df[df['gender'] == 'Male'].index, 'name'] = m_names"
   ]
  },
  {
   "cell_type": "code",
   "execution_count": null,
   "id": "9106c1f3",
   "metadata": {},
   "outputs": [],
   "source": []
  },
  {
   "cell_type": "code",
   "execution_count": 21,
   "id": "e5d4ad2f",
   "metadata": {},
   "outputs": [],
   "source": [
    "df = df[['name', 'gender', 'age', 'edu_level', 'fav_animals',\n",
    "              'sweet_or_salty', 'fav_place',]]"
   ]
  },
  {
   "cell_type": "code",
   "execution_count": 22,
   "id": "cb442b27",
   "metadata": {},
   "outputs": [],
   "source": [
    "df.to_csv('data_prepared.csv', sep=';', index=False)"
   ]
  },
  {
   "cell_type": "code",
   "execution_count": 93,
   "id": "b8aa719d",
   "metadata": {},
   "outputs": [
    {
     "data": {
      "text/html": [
       "<div>\n",
       "<style scoped>\n",
       "    .dataframe tbody tr th:only-of-type {\n",
       "        vertical-align: middle;\n",
       "    }\n",
       "\n",
       "    .dataframe tbody tr th {\n",
       "        vertical-align: top;\n",
       "    }\n",
       "\n",
       "    .dataframe thead th {\n",
       "        text-align: right;\n",
       "    }\n",
       "</style>\n",
       "<table border=\"1\" class=\"dataframe\">\n",
       "  <thead>\n",
       "    <tr style=\"text-align: right;\">\n",
       "      <th></th>\n",
       "      <th>name</th>\n",
       "      <th>gender</th>\n",
       "      <th>age</th>\n",
       "      <th>edu_level</th>\n",
       "      <th>fav_animals</th>\n",
       "      <th>motivation_money_and_job</th>\n",
       "      <th>sweet_or_salty</th>\n",
       "      <th>fav_place</th>\n",
       "    </tr>\n",
       "  </thead>\n",
       "  <tbody>\n",
       "    <tr>\n",
       "      <th>0</th>\n",
       "      <td>Marianna</td>\n",
       "      <td>Female</td>\n",
       "      <td>&lt;18</td>\n",
       "      <td>Primary</td>\n",
       "      <td>No preferences</td>\n",
       "      <td>Hobby</td>\n",
       "      <td>No data</td>\n",
       "      <td>No data</td>\n",
       "    </tr>\n",
       "    <tr>\n",
       "      <th>5</th>\n",
       "      <td>Maciej</td>\n",
       "      <td>Male</td>\n",
       "      <td>25-34</td>\n",
       "      <td>College</td>\n",
       "      <td>Dogs</td>\n",
       "      <td>Hobby</td>\n",
       "      <td>No data</td>\n",
       "      <td>Forest</td>\n",
       "    </tr>\n",
       "    <tr>\n",
       "      <th>10</th>\n",
       "      <td>Piotr</td>\n",
       "      <td>Male</td>\n",
       "      <td>35-44</td>\n",
       "      <td>College</td>\n",
       "      <td>No preferences</td>\n",
       "      <td>Hobby</td>\n",
       "      <td>No data</td>\n",
       "      <td>Mountains</td>\n",
       "    </tr>\n",
       "    <tr>\n",
       "      <th>14</th>\n",
       "      <td>Tomasz</td>\n",
       "      <td>Male</td>\n",
       "      <td>45-54</td>\n",
       "      <td>College</td>\n",
       "      <td>Other</td>\n",
       "      <td>Hobby</td>\n",
       "      <td>No data</td>\n",
       "      <td>Lake</td>\n",
       "    </tr>\n",
       "    <tr>\n",
       "      <th>30</th>\n",
       "      <td>Ksawery</td>\n",
       "      <td>Male</td>\n",
       "      <td>55-64</td>\n",
       "      <td>College</td>\n",
       "      <td>Other</td>\n",
       "      <td>Carrer</td>\n",
       "      <td>No data</td>\n",
       "      <td>No data</td>\n",
       "    </tr>\n",
       "    <tr>\n",
       "      <th>38</th>\n",
       "      <td>Marek</td>\n",
       "      <td>Male</td>\n",
       "      <td>45-54</td>\n",
       "      <td>Secondary</td>\n",
       "      <td>Dogs</td>\n",
       "      <td>Hobby</td>\n",
       "      <td>No data</td>\n",
       "      <td>Mountains</td>\n",
       "    </tr>\n",
       "    <tr>\n",
       "      <th>48</th>\n",
       "      <td>Marcel</td>\n",
       "      <td>Male</td>\n",
       "      <td>Unknown</td>\n",
       "      <td>College</td>\n",
       "      <td>No preferences</td>\n",
       "      <td>Hobby</td>\n",
       "      <td>No data</td>\n",
       "      <td>No data</td>\n",
       "    </tr>\n",
       "    <tr>\n",
       "      <th>62</th>\n",
       "      <td>Ewelina</td>\n",
       "      <td>Female</td>\n",
       "      <td>35-44</td>\n",
       "      <td>Secondary</td>\n",
       "      <td>No preferences</td>\n",
       "      <td>Hobby</td>\n",
       "      <td>No data</td>\n",
       "      <td>No data</td>\n",
       "    </tr>\n",
       "    <tr>\n",
       "      <th>102</th>\n",
       "      <td>Konstanty</td>\n",
       "      <td>Male</td>\n",
       "      <td>35-44</td>\n",
       "      <td>College</td>\n",
       "      <td>No preferences</td>\n",
       "      <td>Carrer</td>\n",
       "      <td>No data</td>\n",
       "      <td>No data</td>\n",
       "    </tr>\n",
       "    <tr>\n",
       "      <th>115</th>\n",
       "      <td>Franciszek</td>\n",
       "      <td>Male</td>\n",
       "      <td>25-34</td>\n",
       "      <td>College</td>\n",
       "      <td>Cats</td>\n",
       "      <td>Hobby</td>\n",
       "      <td>No data</td>\n",
       "      <td>No data</td>\n",
       "    </tr>\n",
       "  </tbody>\n",
       "</table>\n",
       "</div>"
      ],
      "text/plain": [
       "           name  gender      age  edu_level     fav_animals  \\\n",
       "0      Marianna  Female      <18    Primary  No preferences   \n",
       "5        Maciej    Male    25-34    College            Dogs   \n",
       "10        Piotr    Male    35-44    College  No preferences   \n",
       "14       Tomasz    Male    45-54    College           Other   \n",
       "30      Ksawery    Male    55-64    College           Other   \n",
       "38        Marek    Male    45-54  Secondary            Dogs   \n",
       "48       Marcel    Male  Unknown    College  No preferences   \n",
       "62      Ewelina  Female    35-44  Secondary  No preferences   \n",
       "102   Konstanty    Male    35-44    College  No preferences   \n",
       "115  Franciszek    Male    25-34    College            Cats   \n",
       "\n",
       "    motivation_money_and_job sweet_or_salty  fav_place  \n",
       "0                      Hobby        No data    No data  \n",
       "5                      Hobby        No data     Forest  \n",
       "10                     Hobby        No data  Mountains  \n",
       "14                     Hobby        No data       Lake  \n",
       "30                    Carrer        No data    No data  \n",
       "38                     Hobby        No data  Mountains  \n",
       "48                     Hobby        No data    No data  \n",
       "62                     Hobby        No data    No data  \n",
       "102                   Carrer        No data    No data  \n",
       "115                    Hobby        No data    No data  "
      ]
     },
     "execution_count": 93,
     "metadata": {},
     "output_type": "execute_result"
    }
   ],
   "source": [
    "df[df.sweet_or_salty == 'No data']"
   ]
  },
  {
   "cell_type": "code",
   "execution_count": 112,
   "id": "9d4089ea",
   "metadata": {},
   "outputs": [
    {
     "data": {
      "text/plain": [
       "<Axes: title={'center': 'Age histogram'}, xlabel='Age', ylabel='Age count'>"
      ]
     },
     "execution_count": 112,
     "metadata": {},
     "output_type": "execute_result"
    },
    {
     "data": {
      "image/png": "[encoded data removed]",
      "text/plain": [
       "<Figure size 640x480 with 1 Axes>"
      ]
     },
     "metadata": {},
     "output_type": "display_data"
    }
   ],
   "source": [
    "\n",
    "plt.title('Age histogram')\n",
    "plt.ylabel('Age count')\n",
    "plt.xlabel('Age')\n",
    "sns.histplot(data=df, x='age', kde=True, color='g')"
   ]
  },
  {
   "cell_type": "code",
   "execution_count": 113,
   "id": "d3f543aa",
   "metadata": {},
   "outputs": [
    {
     "data": {
      "text/plain": [
       "Index(['name', 'gender', 'age', 'edu_level', 'fav_animals',\n",
       "       'motivation_money_and_job', 'sweet_or_salty', 'fav_place'],\n",
       "      dtype='object')"
      ]
     },
     "execution_count": 113,
     "metadata": {},
     "output_type": "execute_result"
    }
   ],
   "source": [
    "df.columns"
   ]
  },
  {
   "cell_type": "code",
   "execution_count": null,
   "id": "21f55e7a",
   "metadata": {},
   "outputs": [],
   "source": []
  }
 ],
 "metadata": {
  "kernelspec": {
   "display_name": "od_zera_do_ai",
   "language": "python",
   "name": "python3"
  },
  "language_info": {
   "codemirror_mode": {
    "name": "ipython",
    "version": 3
   },
   "file_extension": ".py",
   "mimetype": "text/x-python",
   "name": "python",
   "nbconvert_exporter": "python",
   "pygments_lexer": "ipython3",
   "version": "3.13.2"
  }
 },
 "nbformat": 4,
 "nbformat_minor": 5
}
